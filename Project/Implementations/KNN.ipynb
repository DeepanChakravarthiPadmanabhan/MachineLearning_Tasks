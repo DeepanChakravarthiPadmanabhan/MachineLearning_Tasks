{
 "cells": [
  {
   "cell_type": "code",
   "execution_count": 74,
   "metadata": {},
   "outputs": [],
   "source": [
    "import pandas as pd\n",
    "import numpy as np\n",
    "\n",
    "import matplotlib.pyplot as plt\n",
    "from mpl_toolkits.mplot3d import Axes3D\n",
    "import matplotlib as mpl\n",
    "\n",
    "import seaborn as sns\n",
    "from sklearn.neighbors import KNeighborsClassifier\n",
    "from sklearn.decomposition import PCA\n",
    "\n",
    "\n",
    "%matplotlib inline"
   ]
  },
  {
   "cell_type": "markdown",
   "metadata": {},
   "source": [
    "## Measurement Data:\n",
    "* total 40 feature devided into group of 3\n",
    "* first 16 feature for left(or right) movement. each group A,B,C,D have 4 feature.\n",
    "* second 16 feature for right(or left) movement\n",
    "* last 8 feature is combined feature (A,B,C,D | A,B,C,D)\n",
    "* total 117 observation in each .txt file"
   ]
  },
  {
   "cell_type": "markdown",
   "metadata": {},
   "source": [
    "## Human Evaluation\n",
    "* Represents the minimum limit for testing number of pen\n",
    "* Total 300 pens are taken and the performance of the pen is evaluated by two employee.\n",
    "* If either of employee identify the pen with bad quality, we don't count it.\n",
    "* at the end we find 200 pens are with good quality."
   ]
  },
  {
   "cell_type": "code",
   "execution_count": 75,
   "metadata": {},
   "outputs": [],
   "source": [
    "def readData_new(fileName):\n",
    "    data = pd.read_csv(fileName, skiprows= 10, delimiter= ';', decimal=',',usecols=range(98))\n",
    "    return data"
   ]
  },
  {
   "cell_type": "code",
   "execution_count": 76,
   "metadata": {},
   "outputs": [
    {
     "data": {
      "text/html": [
       "<div>\n",
       "<style scoped>\n",
       "    .dataframe tbody tr th:only-of-type {\n",
       "        vertical-align: middle;\n",
       "    }\n",
       "\n",
       "    .dataframe tbody tr th {\n",
       "        vertical-align: top;\n",
       "    }\n",
       "\n",
       "    .dataframe thead th {\n",
       "        text-align: right;\n",
       "    }\n",
       "</style>\n",
       "<table border=\"1\" class=\"dataframe\">\n",
       "  <thead>\n",
       "    <tr style=\"text-align: right;\">\n",
       "      <th></th>\n",
       "      <th>Datum Uhrzeit</th>\n",
       "      <th>Schreiben 0/0 [V]</th>\n",
       "      <th>Schreiben 0/1 [V]</th>\n",
       "      <th>Schreiben 0/2 [V]</th>\n",
       "      <th>Schreiben 0/3 [V]</th>\n",
       "      <th>Schreiben 0/4 [V]</th>\n",
       "      <th>Schreiben 0/5 [V]</th>\n",
       "      <th>Schreiben 0/6 [V]</th>\n",
       "      <th>Schreiben 0/7 [V]</th>\n",
       "      <th>Schreiben 0/8 [V]</th>\n",
       "      <th>...</th>\n",
       "      <th>Schreiben 5/7 [V]</th>\n",
       "      <th>Schreiben 5/8 [V]</th>\n",
       "      <th>Schreiben 5/9 [V]</th>\n",
       "      <th>Schreiben 5/10 [V]</th>\n",
       "      <th>Schreiben 5/11 [V]</th>\n",
       "      <th>Schreiben 5/12 [V]</th>\n",
       "      <th>Schreiben 5/13 [V]</th>\n",
       "      <th>Schreiben 5/14 [V]</th>\n",
       "      <th>Schreiben 5/15 [V]</th>\n",
       "      <th>Schreiben 6/0 [V]</th>\n",
       "    </tr>\n",
       "  </thead>\n",
       "  <tbody>\n",
       "    <tr>\n",
       "      <th>1643</th>\n",
       "      <td>05.09.2018 11:22:53,00</td>\n",
       "      <td>47.263234</td>\n",
       "      <td>47.263234</td>\n",
       "      <td>8.794629</td>\n",
       "      <td>8.090293</td>\n",
       "      <td>19.324654</td>\n",
       "      <td>19.324654</td>\n",
       "      <td>4.233085</td>\n",
       "      <td>4.338852</td>\n",
       "      <td>875.000000</td>\n",
       "      <td>...</td>\n",
       "      <td>0.0</td>\n",
       "      <td>0.0</td>\n",
       "      <td>0.0</td>\n",
       "      <td>0.0</td>\n",
       "      <td>0.0</td>\n",
       "      <td>0.0</td>\n",
       "      <td>0.0</td>\n",
       "      <td>0.0</td>\n",
       "      <td>0.0</td>\n",
       "      <td>0.0</td>\n",
       "    </tr>\n",
       "    <tr>\n",
       "      <th>1644</th>\n",
       "      <td>05.09.2018 11:23:06,00</td>\n",
       "      <td>55.264633</td>\n",
       "      <td>55.264633</td>\n",
       "      <td>15.628406</td>\n",
       "      <td>1.541478</td>\n",
       "      <td>31.590973</td>\n",
       "      <td>31.590973</td>\n",
       "      <td>8.059764</td>\n",
       "      <td>0.658376</td>\n",
       "      <td>870.833333</td>\n",
       "      <td>...</td>\n",
       "      <td>0.0</td>\n",
       "      <td>0.0</td>\n",
       "      <td>0.0</td>\n",
       "      <td>0.0</td>\n",
       "      <td>0.0</td>\n",
       "      <td>0.0</td>\n",
       "      <td>0.0</td>\n",
       "      <td>0.0</td>\n",
       "      <td>0.0</td>\n",
       "      <td>0.0</td>\n",
       "    </tr>\n",
       "    <tr>\n",
       "      <th>1645</th>\n",
       "      <td>05.09.2018 11:23:44,00</td>\n",
       "      <td>25.853471</td>\n",
       "      <td>25.853471</td>\n",
       "      <td>2.475847</td>\n",
       "      <td>2.346858</td>\n",
       "      <td>11.519591</td>\n",
       "      <td>11.519591</td>\n",
       "      <td>1.198029</td>\n",
       "      <td>1.180287</td>\n",
       "      <td>879.166667</td>\n",
       "      <td>...</td>\n",
       "      <td>0.0</td>\n",
       "      <td>0.0</td>\n",
       "      <td>0.0</td>\n",
       "      <td>0.0</td>\n",
       "      <td>0.0</td>\n",
       "      <td>0.0</td>\n",
       "      <td>0.0</td>\n",
       "      <td>0.0</td>\n",
       "      <td>0.0</td>\n",
       "      <td>0.0</td>\n",
       "    </tr>\n",
       "    <tr>\n",
       "      <th>1646</th>\n",
       "      <td>05.09.2018 11:23:56,00</td>\n",
       "      <td>99.962614</td>\n",
       "      <td>99.962614</td>\n",
       "      <td>6.978670</td>\n",
       "      <td>3.791749</td>\n",
       "      <td>34.240799</td>\n",
       "      <td>34.240799</td>\n",
       "      <td>4.036537</td>\n",
       "      <td>1.681003</td>\n",
       "      <td>904.166667</td>\n",
       "      <td>...</td>\n",
       "      <td>0.0</td>\n",
       "      <td>0.0</td>\n",
       "      <td>0.0</td>\n",
       "      <td>0.0</td>\n",
       "      <td>0.0</td>\n",
       "      <td>0.0</td>\n",
       "      <td>0.0</td>\n",
       "      <td>0.0</td>\n",
       "      <td>0.0</td>\n",
       "      <td>0.0</td>\n",
       "    </tr>\n",
       "    <tr>\n",
       "      <th>1647</th>\n",
       "      <td>05.09.2018 11:24:30,00</td>\n",
       "      <td>139.103249</td>\n",
       "      <td>139.103249</td>\n",
       "      <td>27.018073</td>\n",
       "      <td>6.889658</td>\n",
       "      <td>59.029780</td>\n",
       "      <td>59.029780</td>\n",
       "      <td>11.444529</td>\n",
       "      <td>4.064404</td>\n",
       "      <td>866.666667</td>\n",
       "      <td>...</td>\n",
       "      <td>0.0</td>\n",
       "      <td>0.0</td>\n",
       "      <td>0.0</td>\n",
       "      <td>0.0</td>\n",
       "      <td>0.0</td>\n",
       "      <td>0.0</td>\n",
       "      <td>0.0</td>\n",
       "      <td>0.0</td>\n",
       "      <td>0.0</td>\n",
       "      <td>6.0</td>\n",
       "    </tr>\n",
       "  </tbody>\n",
       "</table>\n",
       "<p>5 rows × 98 columns</p>\n",
       "</div>"
      ],
      "text/plain": [
       "               Datum Uhrzeit  Schreiben 0/0 [V]  Schreiben 0/1 [V]  \\\n",
       "1643  05.09.2018 11:22:53,00          47.263234          47.263234   \n",
       "1644  05.09.2018 11:23:06,00          55.264633          55.264633   \n",
       "1645  05.09.2018 11:23:44,00          25.853471          25.853471   \n",
       "1646  05.09.2018 11:23:56,00          99.962614          99.962614   \n",
       "1647  05.09.2018 11:24:30,00         139.103249         139.103249   \n",
       "\n",
       "      Schreiben 0/2 [V]  Schreiben 0/3 [V]  Schreiben 0/4 [V]  \\\n",
       "1643           8.794629           8.090293          19.324654   \n",
       "1644          15.628406           1.541478          31.590973   \n",
       "1645           2.475847           2.346858          11.519591   \n",
       "1646           6.978670           3.791749          34.240799   \n",
       "1647          27.018073           6.889658          59.029780   \n",
       "\n",
       "      Schreiben 0/5 [V]  Schreiben 0/6 [V]  Schreiben 0/7 [V]  \\\n",
       "1643          19.324654           4.233085           4.338852   \n",
       "1644          31.590973           8.059764           0.658376   \n",
       "1645          11.519591           1.198029           1.180287   \n",
       "1646          34.240799           4.036537           1.681003   \n",
       "1647          59.029780          11.444529           4.064404   \n",
       "\n",
       "      Schreiben 0/8 [V]        ...          Schreiben 5/7 [V]  \\\n",
       "1643         875.000000        ...                        0.0   \n",
       "1644         870.833333        ...                        0.0   \n",
       "1645         879.166667        ...                        0.0   \n",
       "1646         904.166667        ...                        0.0   \n",
       "1647         866.666667        ...                        0.0   \n",
       "\n",
       "      Schreiben 5/8 [V]  Schreiben 5/9 [V]  Schreiben 5/10 [V]  \\\n",
       "1643                0.0                0.0                 0.0   \n",
       "1644                0.0                0.0                 0.0   \n",
       "1645                0.0                0.0                 0.0   \n",
       "1646                0.0                0.0                 0.0   \n",
       "1647                0.0                0.0                 0.0   \n",
       "\n",
       "      Schreiben 5/11 [V]  Schreiben 5/12 [V]  Schreiben 5/13 [V]  \\\n",
       "1643                 0.0                 0.0                 0.0   \n",
       "1644                 0.0                 0.0                 0.0   \n",
       "1645                 0.0                 0.0                 0.0   \n",
       "1646                 0.0                 0.0                 0.0   \n",
       "1647                 0.0                 0.0                 0.0   \n",
       "\n",
       "      Schreiben 5/14 [V]  Schreiben 5/15 [V]  Schreiben 6/0 [V]  \n",
       "1643                 0.0                 0.0                0.0  \n",
       "1644                 0.0                 0.0                0.0  \n",
       "1645                 0.0                 0.0                0.0  \n",
       "1646                 0.0                 0.0                0.0  \n",
       "1647                 0.0                 0.0                6.0  \n",
       "\n",
       "[5 rows x 98 columns]"
      ]
     },
     "execution_count": 76,
     "metadata": {},
     "output_type": "execute_result"
    }
   ],
   "source": [
    "dataB1 = readData_new('MeasuramentsData/Federtyp B_1.TXT')\n",
    "dataB2 = readData_new('MeasuramentsData/Federtyp B_2.TXT')\n",
    "dataB3 = readData_new('MeasuramentsData/Federtyp B_3.TXT')\n",
    "dataB4 = readData_new('MeasuramentsData/Federtyp B_4.TXT')\n",
    "\n",
    "dataB=pd.concat([dataB1,dataB2,dataB3,dataB4])\n",
    "\n",
    "dataEF1 = readData_new('MeasuramentsData/Federtyp EF_1.TXT')\n",
    "dataEF2 = readData_new('MeasuramentsData/Federtyp EF_2.TXT')\n",
    "dataEF3 = readData_new('MeasuramentsData/Federtyp EF_3.TXT')\n",
    "dataEF4 = readData_new('MeasuramentsData/Federtyp EF_4.TXT')\n",
    "\n",
    "dataEF= pd.concat([dataEF1,dataEF2,dataEF3,dataEF4])\n",
    "\n",
    "dataF1 = readData_new('MeasuramentsData/Federtyp F_1.TXT')\n",
    "dataF2 = readData_new('MeasuramentsData/Federtyp F_2.TXT')\n",
    "dataF3 = readData_new('MeasuramentsData/Federtyp F_3.TXT')\n",
    "dataF4 = readData_new('MeasuramentsData/Federtyp F_4.TXT')\n",
    "\n",
    "dataF= pd.concat([dataF1,dataF2,dataF3,dataF4])\n",
    "\n",
    "dataM1 = readData_new('MeasuramentsData/Federtyp M_1.TXT')\n",
    "dataM2 = readData_new('MeasuramentsData/Federtyp M_2.TXT')\n",
    "dataM3 = readData_new('MeasuramentsData/Federtyp M_3.TXT')\n",
    "dataM4 = readData_new('MeasuramentsData/Federtyp M_4.TXT')\n",
    "\n",
    "dataM= pd.concat([dataM1,dataM2,dataM3,dataM4])\n",
    "\n",
    "data_final=pd.concat([dataB,dataEF,dataF,dataM],keys=['B','EF','F','M'],ignore_index=True, sort=False)\n",
    "                      \n",
    "data_final.tail()\n"
   ]
  },
  {
   "cell_type": "code",
   "execution_count": 77,
   "metadata": {},
   "outputs": [
    {
     "data": {
      "text/plain": [
       "(1648, 98)"
      ]
     },
     "execution_count": 77,
     "metadata": {},
     "output_type": "execute_result"
    }
   ],
   "source": [
    "data_final.shape"
   ]
  },
  {
   "cell_type": "code",
   "execution_count": 78,
   "metadata": {},
   "outputs": [],
   "source": [
    "data_final= data_final.rename(columns={\"Schreiben 6/0 [V]\": \"class\"})"
   ]
  },
  {
   "cell_type": "code",
   "execution_count": 79,
   "metadata": {},
   "outputs": [],
   "source": [
    "X=data_final.drop(['class','Datum Uhrzeit'],axis=1)\n",
    "y=data_final['class']"
   ]
  },
  {
   "cell_type": "code",
   "execution_count": 80,
   "metadata": {},
   "outputs": [],
   "source": [
    "X=X.iloc[:,0:48]"
   ]
  },
  {
   "cell_type": "code",
   "execution_count": 81,
   "metadata": {},
   "outputs": [
    {
     "name": "stderr",
     "output_type": "stream",
     "text": [
      "/home/mihir/anaconda3/lib/python3.7/site-packages/ipykernel_launcher.py:1: SettingWithCopyWarning: \n",
      "A value is trying to be set on a copy of a slice from a DataFrame\n",
      "\n",
      "See the caveats in the documentation: http://pandas.pydata.org/pandas-docs/stable/indexing.html#indexing-view-versus-copy\n",
      "  \"\"\"Entry point for launching an IPython kernel.\n"
     ]
    }
   ],
   "source": [
    "y[y!=0]=1"
   ]
  },
  {
   "cell_type": "code",
   "execution_count": 82,
   "metadata": {},
   "outputs": [],
   "source": [
    "from sklearn.model_selection import train_test_split\n",
    "# Splitting train-test set\n",
    "X_train, X_test, y_train, y_test = train_test_split(X, y, test_size=0.33, random_state=66)"
   ]
  },
  {
   "cell_type": "code",
   "execution_count": 83,
   "metadata": {},
   "outputs": [],
   "source": [
    "\n",
    "knnlearn = KNeighborsClassifier(n_neighbors=10)\n",
    "knnlearn.fit(X_train, y_train) \n",
    "y_predicted = knnlearn.predict(X_test)"
   ]
  },
  {
   "cell_type": "code",
   "execution_count": 84,
   "metadata": {},
   "outputs": [],
   "source": [
    "from sklearn.model_selection import cross_val_score\n",
    "from sklearn.metrics import classification_report, confusion_matrix"
   ]
  },
  {
   "cell_type": "code",
   "execution_count": 70,
   "metadata": {},
   "outputs": [
    {
     "name": "stdout",
     "output_type": "stream",
     "text": [
      "=== Confusion Matrix KNN Classifier===\n",
      "[[290  27]\n",
      " [ 83 144]]\n",
      "\n",
      "\n"
     ]
    }
   ],
   "source": [
    "print(\"=== Confusion Matrix KNN Classifier===\")\n",
    "print(confusion_matrix(y_test, y_predicted))\n",
    "print('\\n')\n"
   ]
  },
  {
   "cell_type": "code",
   "execution_count": 71,
   "metadata": {},
   "outputs": [
    {
     "name": "stdout",
     "output_type": "stream",
     "text": [
      "=== Classification Report KNN Classifier===\n",
      "              precision    recall  f1-score   support\n",
      "\n",
      "         0.0       0.78      0.91      0.84       317\n",
      "         1.0       0.84      0.63      0.72       227\n",
      "\n",
      "   micro avg       0.80      0.80      0.80       544\n",
      "   macro avg       0.81      0.77      0.78       544\n",
      "weighted avg       0.80      0.80      0.79       544\n",
      "\n",
      "\n",
      "\n"
     ]
    }
   ],
   "source": [
    "print(\"=== Classification Report KNN Classifier===\")\n",
    "print(classification_report(y_test, y_predicted))\n",
    "print('\\n')\n"
   ]
  },
  {
   "cell_type": "code",
   "execution_count": 72,
   "metadata": {},
   "outputs": [
    {
     "name": "stdout",
     "output_type": "stream",
     "text": [
      "Accuracy in KNN Classifier 79.77941176470588\n"
     ]
    }
   ],
   "source": [
    "from sklearn.metrics import accuracy_score\n",
    "print(\"Accuracy in KNN Classifier\", accuracy_score(y_test,y_predicted)*100)"
   ]
  },
  {
   "cell_type": "code",
   "execution_count": null,
   "metadata": {},
   "outputs": [],
   "source": []
  }
 ],
 "metadata": {
  "kernelspec": {
   "display_name": "Python 3",
   "language": "python",
   "name": "python3"
  },
  "language_info": {
   "codemirror_mode": {
    "name": "ipython",
    "version": 3
   },
   "file_extension": ".py",
   "mimetype": "text/x-python",
   "name": "python",
   "nbconvert_exporter": "python",
   "pygments_lexer": "ipython3",
   "version": "3.6.7"
  },
  "widgets": {
   "state": {},
   "version": "1.1.2"
  }
 },
 "nbformat": 4,
 "nbformat_minor": 2
}
